{
 "cells": [
  {
   "cell_type": "code",
   "execution_count": null,
   "metadata": {
    "collapsed": false,
    "scrolled": true
   },
   "outputs": [],
   "source": [
    "from scormcloud.client import ScormCloudService\n",
    "from scormcloud.client import Configuration\n",
    "\n",
    "appid = \"<your app id>\"\n",
    "secretkey = \"<your secret key>\"\n",
    "\n",
    "config = Configuration(appid, secretkey, \"https://cloud.scorm.com/EngineWebServices\")\n",
    "srvc = ScormCloudService.withconfig(config)\n",
    "\n",
    "request = srvc.request()\n",
    "request.parameters = {\n",
    "    'regid': 'testreg'\n",
    "}\n",
    "request.call_service('rustici.registration.getRegistrationResult')"
   ]
  },
  {
   "cell_type": "code",
   "execution_count": null,
   "metadata": {
    "collapsed": true
   },
   "outputs": [],
   "source": []
  }
 ],
 "metadata": {
  "kernelspec": {
   "display_name": "Python 3",
   "language": "python",
   "name": "python3"
  },
  "language_info": {
   "codemirror_mode": {
    "name": "ipython",
    "version": 3
   },
   "file_extension": ".py",
   "mimetype": "text/x-python",
   "name": "python",
   "nbconvert_exporter": "python",
   "pygments_lexer": "ipython3",
   "version": "3.5.2"
  }
 },
 "nbformat": 4,
 "nbformat_minor": 2
}
